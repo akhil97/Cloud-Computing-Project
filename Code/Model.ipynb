{
 "cells": [
  {
   "cell_type": "code",
   "execution_count": 68,
   "id": "98f5c4b8-6080-4486-9ff6-7b40e281f9dc",
   "metadata": {
    "tags": []
   },
   "outputs": [],
   "source": [
    "import pandas as pd\n",
    "import boto3, re, sys, math, json, os, sagemaker, urllib.request\n",
    "import os\n",
    "import numpy as np\n",
    "from sklearn.model_selection import train_test_split\n",
    "import matplotlib.pyplot as plt\n",
    "from sklearn.ensemble import RandomForestRegressor\n",
    "import boto3\n",
    "import sagemaker\n",
    "from sagemaker.xgboost.estimator import XGBoost\n",
    "from sagemaker.session import Session\n",
    "from sagemaker.inputs import TrainingInput\n",
    "region = boto3.session.Session().region_name\n",
    "from sagemaker.serializers import CSVSerializer"
   ]
  },
  {
   "cell_type": "code",
   "execution_count": null,
   "id": "69af2045-2c5b-4b92-a0bf-dc049606d2a6",
   "metadata": {},
   "outputs": [],
   "source": [
    "df = pd.read_csv('s3://myprojectbucket123/train/used_cars.csv')\n",
    "df.head()"
   ]
  },
  {
   "cell_type": "code",
   "execution_count": 4,
   "id": "358f8091-d3ae-4bd1-a879-2592ebe6ecda",
   "metadata": {
    "tags": []
   },
   "outputs": [],
   "source": [
    "new_df = df[['manufacturer_name','model_name','transmission','color','odometer_value','year_produced','engine_fuel','engine_type','drivetrain','price_usd']]"
   ]
  },
  {
   "cell_type": "code",
   "execution_count": 5,
   "id": "a6b91e8b-474c-442a-94c0-e29360c35004",
   "metadata": {
    "tags": []
   },
   "outputs": [
    {
     "name": "stderr",
     "output_type": "stream",
     "text": [
      "/tmp/ipykernel_254/2192248105.py:4: SettingWithCopyWarning: \n",
      "A value is trying to be set on a copy of a slice from a DataFrame.\n",
      "Try using .loc[row_indexer,col_indexer] = value instead\n",
      "\n",
      "See the caveats in the documentation: https://pandas.pydata.org/pandas-docs/stable/user_guide/indexing.html#returning-a-view-versus-a-copy\n",
      "  new_df['odometer_value'] = scaler.fit_transform(new_df['odometer_value'].values.reshape(-1,1))\n",
      "/tmp/ipykernel_254/2192248105.py:5: SettingWithCopyWarning: \n",
      "A value is trying to be set on a copy of a slice from a DataFrame.\n",
      "Try using .loc[row_indexer,col_indexer] = value instead\n",
      "\n",
      "See the caveats in the documentation: https://pandas.pydata.org/pandas-docs/stable/user_guide/indexing.html#returning-a-view-versus-a-copy\n",
      "  new_df['year_produced'] = scaler.fit_transform(new_df['year_produced'].values.reshape(-1,1))\n",
      "/opt/conda/lib/python3.10/site-packages/sklearn/preprocessing/_label.py:115: DataConversionWarning: A column-vector y was passed when a 1d array was expected. Please change the shape of y to (n_samples, ), for example using ravel().\n",
      "  y = column_or_1d(y, warn=True)\n",
      "/tmp/ipykernel_254/2192248105.py:7: SettingWithCopyWarning: \n",
      "A value is trying to be set on a copy of a slice from a DataFrame.\n",
      "Try using .loc[row_indexer,col_indexer] = value instead\n",
      "\n",
      "See the caveats in the documentation: https://pandas.pydata.org/pandas-docs/stable/user_guide/indexing.html#returning-a-view-versus-a-copy\n",
      "  new_df['manufacturer_name'] = labelencode.fit_transform(new_df['manufacturer_name'].values.reshape(-1,1))\n",
      "/tmp/ipykernel_254/2192248105.py:8: SettingWithCopyWarning: \n",
      "A value is trying to be set on a copy of a slice from a DataFrame.\n",
      "Try using .loc[row_indexer,col_indexer] = value instead\n",
      "\n",
      "See the caveats in the documentation: https://pandas.pydata.org/pandas-docs/stable/user_guide/indexing.html#returning-a-view-versus-a-copy\n",
      "  new_df['model_name'] = labelencode.fit_transform(new_df['model_name'].values.reshape(-1,1))\n",
      "/tmp/ipykernel_254/2192248105.py:9: SettingWithCopyWarning: \n",
      "A value is trying to be set on a copy of a slice from a DataFrame.\n",
      "Try using .loc[row_indexer,col_indexer] = value instead\n",
      "\n",
      "See the caveats in the documentation: https://pandas.pydata.org/pandas-docs/stable/user_guide/indexing.html#returning-a-view-versus-a-copy\n",
      "  new_df['color'] = labelencode.fit_transform(new_df['color'].values.reshape(-1,1))\n"
     ]
    },
    {
     "data": {
      "text/html": [
       "<div>\n",
       "<style scoped>\n",
       "    .dataframe tbody tr th:only-of-type {\n",
       "        vertical-align: middle;\n",
       "    }\n",
       "\n",
       "    .dataframe tbody tr th {\n",
       "        vertical-align: top;\n",
       "    }\n",
       "\n",
       "    .dataframe thead th {\n",
       "        text-align: right;\n",
       "    }\n",
       "</style>\n",
       "<table border=\"1\" class=\"dataframe\">\n",
       "  <thead>\n",
       "    <tr style=\"text-align: right;\">\n",
       "      <th></th>\n",
       "      <th>manufacturer_name</th>\n",
       "      <th>model_name</th>\n",
       "      <th>color</th>\n",
       "      <th>odometer_value</th>\n",
       "      <th>year_produced</th>\n",
       "      <th>price_usd</th>\n",
       "      <th>transmission_automatic</th>\n",
       "      <th>transmission_mechanical</th>\n",
       "      <th>engine_fuel_diesel</th>\n",
       "      <th>engine_fuel_electric</th>\n",
       "      <th>engine_fuel_gas</th>\n",
       "      <th>engine_fuel_gasoline</th>\n",
       "      <th>engine_fuel_hybrid-diesel</th>\n",
       "      <th>engine_fuel_hybrid-petrol</th>\n",
       "      <th>engine_type_diesel</th>\n",
       "      <th>engine_type_electric</th>\n",
       "      <th>engine_type_gasoline</th>\n",
       "      <th>drivetrain_all</th>\n",
       "      <th>drivetrain_front</th>\n",
       "      <th>drivetrain_rear</th>\n",
       "    </tr>\n",
       "  </thead>\n",
       "  <tbody>\n",
       "    <tr>\n",
       "      <th>0</th>\n",
       "      <td>45</td>\n",
       "      <td>764</td>\n",
       "      <td>8</td>\n",
       "      <td>-0.432604</td>\n",
       "      <td>0.874857</td>\n",
       "      <td>10900.00</td>\n",
       "      <td>1</td>\n",
       "      <td>0</td>\n",
       "      <td>0</td>\n",
       "      <td>0</td>\n",
       "      <td>0</td>\n",
       "      <td>1</td>\n",
       "      <td>0</td>\n",
       "      <td>0</td>\n",
       "      <td>0</td>\n",
       "      <td>0</td>\n",
       "      <td>1</td>\n",
       "      <td>1</td>\n",
       "      <td>0</td>\n",
       "      <td>0</td>\n",
       "    </tr>\n",
       "    <tr>\n",
       "      <th>1</th>\n",
       "      <td>45</td>\n",
       "      <td>764</td>\n",
       "      <td>1</td>\n",
       "      <td>0.302309</td>\n",
       "      <td>-0.117007</td>\n",
       "      <td>5000.00</td>\n",
       "      <td>1</td>\n",
       "      <td>0</td>\n",
       "      <td>0</td>\n",
       "      <td>0</td>\n",
       "      <td>0</td>\n",
       "      <td>1</td>\n",
       "      <td>0</td>\n",
       "      <td>0</td>\n",
       "      <td>0</td>\n",
       "      <td>0</td>\n",
       "      <td>1</td>\n",
       "      <td>1</td>\n",
       "      <td>0</td>\n",
       "      <td>0</td>\n",
       "    </tr>\n",
       "    <tr>\n",
       "      <th>2</th>\n",
       "      <td>45</td>\n",
       "      <td>519</td>\n",
       "      <td>7</td>\n",
       "      <td>1.125411</td>\n",
       "      <td>-0.240990</td>\n",
       "      <td>2800.00</td>\n",
       "      <td>1</td>\n",
       "      <td>0</td>\n",
       "      <td>0</td>\n",
       "      <td>0</td>\n",
       "      <td>0</td>\n",
       "      <td>1</td>\n",
       "      <td>0</td>\n",
       "      <td>0</td>\n",
       "      <td>0</td>\n",
       "      <td>0</td>\n",
       "      <td>1</td>\n",
       "      <td>1</td>\n",
       "      <td>0</td>\n",
       "      <td>0</td>\n",
       "    </tr>\n",
       "    <tr>\n",
       "      <th>3</th>\n",
       "      <td>45</td>\n",
       "      <td>609</td>\n",
       "      <td>1</td>\n",
       "      <td>-1.755446</td>\n",
       "      <td>-0.488956</td>\n",
       "      <td>9999.00</td>\n",
       "      <td>0</td>\n",
       "      <td>1</td>\n",
       "      <td>0</td>\n",
       "      <td>0</td>\n",
       "      <td>0</td>\n",
       "      <td>1</td>\n",
       "      <td>0</td>\n",
       "      <td>0</td>\n",
       "      <td>0</td>\n",
       "      <td>0</td>\n",
       "      <td>1</td>\n",
       "      <td>1</td>\n",
       "      <td>0</td>\n",
       "      <td>0</td>\n",
       "    </tr>\n",
       "    <tr>\n",
       "      <th>4</th>\n",
       "      <td>45</td>\n",
       "      <td>665</td>\n",
       "      <td>0</td>\n",
       "      <td>0.228818</td>\n",
       "      <td>-0.240990</td>\n",
       "      <td>2134.11</td>\n",
       "      <td>1</td>\n",
       "      <td>0</td>\n",
       "      <td>0</td>\n",
       "      <td>0</td>\n",
       "      <td>0</td>\n",
       "      <td>1</td>\n",
       "      <td>0</td>\n",
       "      <td>0</td>\n",
       "      <td>0</td>\n",
       "      <td>0</td>\n",
       "      <td>1</td>\n",
       "      <td>1</td>\n",
       "      <td>0</td>\n",
       "      <td>0</td>\n",
       "    </tr>\n",
       "  </tbody>\n",
       "</table>\n",
       "</div>"
      ],
      "text/plain": [
       "   manufacturer_name  model_name  color  odometer_value  year_produced  \\\n",
       "0                 45         764      8       -0.432604       0.874857   \n",
       "1                 45         764      1        0.302309      -0.117007   \n",
       "2                 45         519      7        1.125411      -0.240990   \n",
       "3                 45         609      1       -1.755446      -0.488956   \n",
       "4                 45         665      0        0.228818      -0.240990   \n",
       "\n",
       "   price_usd  transmission_automatic  transmission_mechanical  \\\n",
       "0   10900.00                       1                        0   \n",
       "1    5000.00                       1                        0   \n",
       "2    2800.00                       1                        0   \n",
       "3    9999.00                       0                        1   \n",
       "4    2134.11                       1                        0   \n",
       "\n",
       "   engine_fuel_diesel  engine_fuel_electric  engine_fuel_gas  \\\n",
       "0                   0                     0                0   \n",
       "1                   0                     0                0   \n",
       "2                   0                     0                0   \n",
       "3                   0                     0                0   \n",
       "4                   0                     0                0   \n",
       "\n",
       "   engine_fuel_gasoline  engine_fuel_hybrid-diesel  engine_fuel_hybrid-petrol  \\\n",
       "0                     1                          0                          0   \n",
       "1                     1                          0                          0   \n",
       "2                     1                          0                          0   \n",
       "3                     1                          0                          0   \n",
       "4                     1                          0                          0   \n",
       "\n",
       "   engine_type_diesel  engine_type_electric  engine_type_gasoline  \\\n",
       "0                   0                     0                     1   \n",
       "1                   0                     0                     1   \n",
       "2                   0                     0                     1   \n",
       "3                   0                     0                     1   \n",
       "4                   0                     0                     1   \n",
       "\n",
       "   drivetrain_all  drivetrain_front  drivetrain_rear  \n",
       "0               1                 0                0  \n",
       "1               1                 0                0  \n",
       "2               1                 0                0  \n",
       "3               1                 0                0  \n",
       "4               1                 0                0  "
      ]
     },
     "execution_count": 5,
     "metadata": {},
     "output_type": "execute_result"
    }
   ],
   "source": [
    "from sklearn.preprocessing import StandardScaler\n",
    "from sklearn.preprocessing import LabelEncoder\n",
    "scaler = StandardScaler()\n",
    "new_df['odometer_value'] = scaler.fit_transform(new_df['odometer_value'].values.reshape(-1,1))\n",
    "new_df['year_produced'] = scaler.fit_transform(new_df['year_produced'].values.reshape(-1,1))\n",
    "labelencode = LabelEncoder()\n",
    "new_df['manufacturer_name'] = labelencode.fit_transform(new_df['manufacturer_name'].values.reshape(-1,1))\n",
    "new_df['model_name'] = labelencode.fit_transform(new_df['model_name'].values.reshape(-1,1))\n",
    "new_df['color'] = labelencode.fit_transform(new_df['color'].values.reshape(-1,1))\n",
    "\n",
    "\n",
    "new_df = pd.get_dummies(new_df, columns = ['transmission','engine_fuel','engine_type','drivetrain']) \n",
    "new_df.head()"
   ]
  },
  {
   "cell_type": "code",
   "execution_count": 6,
   "id": "88b68e23-aba0-4956-8966-43e5d1b8d18e",
   "metadata": {
    "tags": []
   },
   "outputs": [
    {
     "name": "stdout",
     "output_type": "stream",
     "text": [
      "(38531, 20)\n",
      "(30824, 19)\n",
      "(7707, 19)\n",
      "(30824,)\n"
     ]
    }
   ],
   "source": [
    "#just to make it simplified, we are taking main features into consideration\n",
    "\n",
    "\n",
    "x_train, x_test, y_train,y_test = train_test_split(new_df.drop(columns = ['price_usd'],axis = 1),new_df.price_usd.values,test_size=0.2, random_state=42)\n",
    "print(new_df.shape)\n",
    "print(x_train.shape)\n",
    "print(x_test.shape)\n",
    "print(y_train.shape)"
   ]
  },
  {
   "cell_type": "code",
   "execution_count": 7,
   "id": "441bcd04-0595-4589-b083-faa83ab606cd",
   "metadata": {
    "tags": []
   },
   "outputs": [
    {
     "data": {
      "text/plain": [
       "RandomForestRegressor(random_state=0)"
      ]
     },
     "execution_count": 7,
     "metadata": {},
     "output_type": "execute_result"
    }
   ],
   "source": [
    "rf = RandomForestRegressor(random_state=0)\n",
    "rf.fit(x_train,y_train)"
   ]
  },
  {
   "cell_type": "code",
   "execution_count": 9,
   "id": "d3bd2d97-eb2f-4ef5-8ed5-6dedfa365f8d",
   "metadata": {
    "tags": []
   },
   "outputs": [],
   "source": [
    "features = list(x_train.columns)"
   ]
  },
  {
   "cell_type": "code",
   "execution_count": 10,
   "id": "c5a28141-493c-429d-80b0-285b7792f800",
   "metadata": {
    "tags": []
   },
   "outputs": [
    {
     "data": {
      "image/png": "[encoded data removed]",
      "text/plain": [
       "<Figure size 640x480 with 1 Axes>"
      ]
     },
     "metadata": {},
     "output_type": "display_data"
    }
   ],
   "source": [
    "f_i = list(zip(features,rf.feature_importances_))\n",
    "f_i.sort(key = lambda x : x[1])\n",
    "plt.barh([x[0] for x in f_i],[x[1] for x in f_i])\n",
    "\n",
    "plt.show()"
   ]
  },
  {
   "cell_type": "code",
   "execution_count": 11,
   "id": "90f2caee-4866-4eee-b7ed-8de3851e1d2a",
   "metadata": {
    "tags": []
   },
   "outputs": [],
   "source": [
    "#as drivetrain is not that important, removing the feature from final model\n",
    "#As some of the transmission, engine type and engine fuel are important, we are keeping those features as an input from the user"
   ]
  },
  {
   "cell_type": "code",
   "execution_count": 16,
   "id": "afe29c80-ae7b-4af3-8a7a-bca0688e9562",
   "metadata": {
    "tags": []
   },
   "outputs": [
    {
     "name": "stdout",
     "output_type": "stream",
     "text": [
      "(26971, 20) (11560, 20)\n"
     ]
    }
   ],
   "source": [
    "train_data, test_data = np.split(new_df.sample(frac=1, random_state=1729), [int(0.7 * len(new_df))])\n",
    "print(train_data.shape, test_data.shape)"
   ]
  },
  {
   "cell_type": "code",
   "execution_count": 17,
   "id": "80049aff-9b62-4e8b-8104-4dc348a73f6d",
   "metadata": {
    "tags": []
   },
   "outputs": [],
   "source": [
    "train_data.drop(columns = ['drivetrain_all','drivetrain_front'],axis = 1, inplace = True)\n",
    "test_data.drop(columns = ['drivetrain_all','drivetrain_front'],axis = 1, inplace = True)"
   ]
  },
  {
   "cell_type": "code",
   "execution_count": 18,
   "id": "f5de3049-1149-4860-967a-a55217e19976",
   "metadata": {
    "tags": []
   },
   "outputs": [
    {
     "data": {
      "text/plain": [
       "(26971, 18)"
      ]
     },
     "execution_count": 18,
     "metadata": {},
     "output_type": "execute_result"
    }
   ],
   "source": [
    "train_data.shape"
   ]
  },
  {
   "cell_type": "code",
   "execution_count": 19,
   "id": "57fde9bf-fbad-4142-b2b1-e89681d18562",
   "metadata": {
    "tags": []
   },
   "outputs": [
    {
     "data": {
      "text/plain": [
       "Index(['manufacturer_name', 'model_name', 'color', 'odometer_value',\n",
       "       'year_produced', 'price_usd', 'transmission_automatic',\n",
       "       'transmission_mechanical', 'engine_fuel_diesel', 'engine_fuel_electric',\n",
       "       'engine_fuel_gas', 'engine_fuel_gasoline', 'engine_fuel_hybrid-diesel',\n",
       "       'engine_fuel_hybrid-petrol', 'engine_type_diesel',\n",
       "       'engine_type_electric', 'engine_type_gasoline', 'drivetrain_rear'],\n",
       "      dtype='object')"
      ]
     },
     "execution_count": 19,
     "metadata": {},
     "output_type": "execute_result"
    }
   ],
   "source": [
    "train_data.columns"
   ]
  },
  {
   "cell_type": "code",
   "execution_count": 71,
   "id": "20c33914-062a-439b-9160-939cfa7caa6b",
   "metadata": {
    "tags": []
   },
   "outputs": [],
   "source": [
    "train_data = train_data[['price_usd','manufacturer_name', 'model_name', 'color', 'odometer_value',\n",
    "       'year_produced',  'transmission_automatic',\n",
    "       'transmission_mechanical', 'engine_fuel_diesel', 'engine_fuel_electric',\n",
    "       'engine_fuel_gas', 'engine_fuel_gasoline', 'engine_fuel_hybrid-diesel',\n",
    "       'engine_fuel_hybrid-petrol', 'engine_type_diesel',\n",
    "       'engine_type_electric', 'engine_type_gasoline']]\n",
    "test_data = test_data[['price_usd','manufacturer_name', 'model_name', 'color', 'odometer_value',\n",
    "       'year_produced',  'transmission_automatic',\n",
    "       'transmission_mechanical', 'engine_fuel_diesel', 'engine_fuel_electric',\n",
    "       'engine_fuel_gas', 'engine_fuel_gasoline', 'engine_fuel_hybrid-diesel',\n",
    "       'engine_fuel_hybrid-petrol', 'engine_type_diesel',\n",
    "       'engine_type_electric', 'engine_type_gasoline']]"
   ]
  },
  {
   "cell_type": "code",
   "execution_count": 72,
   "id": "eca27ac4-730f-442d-801b-2009fd42738b",
   "metadata": {
    "tags": []
   },
   "outputs": [],
   "source": [
    "train_data.to_csv('s3://myprojectbucket123/train/train.csv', index=False, header=False)"
   ]
  },
  {
   "cell_type": "code",
   "execution_count": 73,
   "id": "04aef7b7-ff6e-4c3e-b5cd-cfa19636b785",
   "metadata": {
    "tags": []
   },
   "outputs": [],
   "source": [
    "prefix = 'train'\n",
    "bucket_name = 'myprojectbucket123'"
   ]
  },
  {
   "cell_type": "code",
   "execution_count": 74,
   "id": "ea5f3b54-2fa6-45b5-bd17-3940682e1a2a",
   "metadata": {
    "tags": []
   },
   "outputs": [],
   "source": [
    "boto3.Session().resource('s3').Bucket(bucket_name).Object(os.path.join(prefix, 'train/train.csv')).upload_file('train.csv')\n",
    "s3_input_train = sagemaker.TrainingInput(s3_data='s3://{}/{}/train'.format(bucket_name, prefix), content_type='csv')"
   ]
  },
  {
   "cell_type": "code",
   "execution_count": 75,
   "id": "e7c8ba90-fb44-43fd-9a98-ce1751c844f0",
   "metadata": {
    "tags": []
   },
   "outputs": [
    {
     "data": {
      "text/plain": [
       "Index(['price_usd', 'manufacturer_name', 'model_name', 'color',\n",
       "       'odometer_value', 'year_produced', 'transmission_automatic',\n",
       "       'transmission_mechanical', 'engine_fuel_diesel', 'engine_fuel_electric',\n",
       "       'engine_fuel_gas', 'engine_fuel_gasoline', 'engine_fuel_hybrid-diesel',\n",
       "       'engine_fuel_hybrid-petrol', 'engine_type_diesel',\n",
       "       'engine_type_electric', 'engine_type_gasoline'],\n",
       "      dtype='object')"
      ]
     },
     "execution_count": 75,
     "metadata": {},
     "output_type": "execute_result"
    }
   ],
   "source": [
    "train_data.columns"
   ]
  },
  {
   "cell_type": "code",
   "execution_count": 76,
   "id": "6857bed8-69f2-459f-8194-db12336b669c",
   "metadata": {
    "tags": []
   },
   "outputs": [],
   "source": [
    "hyperparameters = {\n",
    "        \"max_depth\":\"5\",\n",
    "        \"eta\":\"0.2\",\n",
    "        \"gamma\":\"4\",\n",
    "        \"min_child_weight\":\"6\",\n",
    "        \"subsample\":\"0.7\",\n",
    "        \"verbosity\":\"1\",\n",
    "        \"objective\":\"reg:squarederror\",\n",
    "        \"num_round\":\"50\"}\n",
    "output_path = 's3://myprojectbucket123/output/'"
   ]
  },
  {
   "cell_type": "code",
   "execution_count": 77,
   "id": "73b447e7-c61b-401b-9891-ce1bfdf1ee8c",
   "metadata": {
    "tags": []
   },
   "outputs": [],
   "source": [
    "a = train_data.to_numpy()\n",
    "b = test_data.to_numpy()"
   ]
  },
  {
   "cell_type": "code",
   "execution_count": 79,
   "id": "3a08dbb1-2bfc-4894-b5d2-db479693bcb7",
   "metadata": {
    "tags": []
   },
   "outputs": [
    {
     "name": "stderr",
     "output_type": "stream",
     "text": [
      "INFO:sagemaker.image_uris:Ignoring unnecessary instance type: None.\n"
     ]
    },
    {
     "name": "stdout",
     "output_type": "stream",
     "text": [
      "sagemaker.config INFO - Not applying SDK defaults from location: /etc/xdg/sagemaker/config.yaml\n",
      "sagemaker.config INFO - Not applying SDK defaults from location: /root/.config/sagemaker/config.yaml\n",
      "sagemaker.config INFO - Not applying SDK defaults from location: /etc/xdg/sagemaker/config.yaml\n",
      "sagemaker.config INFO - Not applying SDK defaults from location: /root/.config/sagemaker/config.yaml\n"
     ]
    },
    {
     "name": "stderr",
     "output_type": "stream",
     "text": [
      "INFO:sagemaker:Creating training-job with name: sagemaker-xgboost-2023-11-28-04-39-37-954\n"
     ]
    },
    {
     "name": "stdout",
     "output_type": "stream",
     "text": [
      "2023-11-28 04:39:38 Starting - Starting the training job...\n",
      "2023-11-28 04:39:54 Starting - Preparing the instances for training.........\n",
      "2023-11-28 04:41:21 Downloading - Downloading input data...\n",
      "2023-11-28 04:41:46 Training - Downloading the training image...\n",
      "2023-11-28 04:42:12 Training - Training image download completed. Training in progress..\u001b[34m[2023-11-28 04:42:35.727 ip-10-0-195-123.ec2.internal:7 INFO utils.py:28] RULE_JOB_STOP_SIGNAL_FILENAME: None\u001b[0m\n",
      "\u001b[34m[2023-11-28 04:42:35.750 ip-10-0-195-123.ec2.internal:7 INFO profiler_config_parser.py:111] User has disabled profiler.\u001b[0m\n",
      "\u001b[34m[2023-11-28:04:42:36:INFO] Imported framework sagemaker_xgboost_container.training\u001b[0m\n",
      "\u001b[34m[2023-11-28:04:42:36:INFO] Failed to parse hyperparameter objective value reg:squarederror to Json.\u001b[0m\n",
      "\u001b[34mReturning the value itself\u001b[0m\n",
      "\u001b[34m[2023-11-28:04:42:36:INFO] No GPUs detected (normal if no gpus installed)\u001b[0m\n",
      "\u001b[34m[2023-11-28:04:42:36:INFO] Running XGBoost Sagemaker in algorithm mode\u001b[0m\n",
      "\u001b[34m[2023-11-28:04:42:36:INFO] Determined 0 GPU(s) available on the instance.\u001b[0m\n",
      "\u001b[34m[2023-11-28:04:42:36:INFO] Determined delimiter of CSV input is ','\u001b[0m\n",
      "\u001b[34m[2023-11-28:04:42:36:INFO] File path /opt/ml/input/data/train of input files\u001b[0m\n",
      "\u001b[34m[2023-11-28:04:42:36:INFO] Making smlinks from folder /opt/ml/input/data/train to folder /tmp/sagemaker_xgboost_input_data\u001b[0m\n",
      "\u001b[34m[2023-11-28:04:42:36:INFO] creating symlink between Path /opt/ml/input/data/train/train.csv and destination /tmp/sagemaker_xgboost_input_data/train.csv2084080723220373701\u001b[0m\n",
      "\u001b[34m[2023-11-28:04:42:36:INFO] files path: /tmp/sagemaker_xgboost_input_data\u001b[0m\n",
      "\u001b[34m[2023-11-28:04:42:36:INFO] Determined delimiter of CSV input is ','\u001b[0m\n",
      "\u001b[34m[2023-11-28:04:42:36:INFO] Single node training.\u001b[0m\n",
      "\u001b[34m[2023-11-28:04:42:36:INFO] Train matrix has 27001 rows and 25 columns\u001b[0m\n",
      "\u001b[34m[2023-11-28 04:42:36.169 ip-10-0-195-123.ec2.internal:7 INFO json_config.py:92] Creating hook from json_config at /opt/ml/input/config/debughookconfig.json.\u001b[0m\n",
      "\u001b[34m[2023-11-28 04:42:36.169 ip-10-0-195-123.ec2.internal:7 INFO hook.py:206] tensorboard_dir has not been set for the hook. SMDebug will not be exporting tensorboard summaries.\u001b[0m\n",
      "\u001b[34m[2023-11-28 04:42:36.170 ip-10-0-195-123.ec2.internal:7 INFO hook.py:259] Saving to /opt/ml/output/tensors\u001b[0m\n",
      "\u001b[34m[2023-11-28 04:42:36.170 ip-10-0-195-123.ec2.internal:7 INFO state_store.py:77] The checkpoint config file /opt/ml/input/config/checkpointconfig.json does not exist.\u001b[0m\n",
      "\u001b[34m[2023-11-28:04:42:36:INFO] Debug hook created from config\u001b[0m\n",
      "\u001b[34m[2023-11-28 04:42:36.238 ip-10-0-195-123.ec2.internal:7 INFO hook.py:427] Monitoring the collections: metrics\u001b[0m\n",
      "\u001b[34m[2023-11-28 04:42:36.240 ip-10-0-195-123.ec2.internal:7 INFO hook.py:491] Hook is writing from the hook with pid: 7\u001b[0m\n",
      "\u001b[34m[0]#011train-rmse:7614.24689\u001b[0m\n",
      "\u001b[34m[1]#011train-rmse:6417.73857\u001b[0m\n",
      "\u001b[34m[2]#011train-rmse:5500.51788\u001b[0m\n",
      "\u001b[34m[3]#011train-rmse:4799.57115\u001b[0m\n",
      "\u001b[34m[4]#011train-rmse:4277.12025\u001b[0m\n",
      "\u001b[34m[5]#011train-rmse:3889.30095\u001b[0m\n",
      "\u001b[34m[6]#011train-rmse:3602.73730\u001b[0m\n",
      "\u001b[34m[7]#011train-rmse:3395.04567\u001b[0m\n",
      "\u001b[34m[8]#011train-rmse:3231.93219\u001b[0m\n",
      "\u001b[34m[9]#011train-rmse:3124.39925\u001b[0m\n",
      "\u001b[34m[10]#011train-rmse:3041.36085\u001b[0m\n",
      "\u001b[34m[11]#011train-rmse:2962.49491\u001b[0m\n",
      "\u001b[34m[12]#011train-rmse:2878.35159\u001b[0m\n",
      "\u001b[34m[13]#011train-rmse:2812.04687\u001b[0m\n",
      "\u001b[34m[14]#011train-rmse:2776.76601\u001b[0m\n",
      "\u001b[34m[15]#011train-rmse:2750.85937\u001b[0m\n",
      "\u001b[34m[16]#011train-rmse:2713.88821\u001b[0m\n",
      "\u001b[34m[17]#011train-rmse:2687.96874\u001b[0m\n",
      "\u001b[34m[18]#011train-rmse:2676.18939\u001b[0m\n",
      "\u001b[34m[19]#011train-rmse:2642.41694\u001b[0m\n",
      "\u001b[34m[20]#011train-rmse:2617.69504\u001b[0m\n",
      "\u001b[34m[21]#011train-rmse:2601.61385\u001b[0m\n",
      "\u001b[34m[22]#011train-rmse:2560.77676\u001b[0m\n",
      "\u001b[34m[23]#011train-rmse:2529.77232\u001b[0m\n",
      "\u001b[34m[24]#011train-rmse:2518.55918\u001b[0m\n",
      "\u001b[34m[25]#011train-rmse:2504.56076\u001b[0m\n",
      "\u001b[34m[26]#011train-rmse:2458.92436\u001b[0m\n",
      "\u001b[34m[27]#011train-rmse:2439.49573\u001b[0m\n",
      "\u001b[34m[28]#011train-rmse:2432.05535\u001b[0m\n",
      "\u001b[34m[29]#011train-rmse:2425.87060\u001b[0m\n",
      "\u001b[34m[30]#011train-rmse:2417.95192\u001b[0m\n",
      "\u001b[34m[31]#011train-rmse:2399.43609\u001b[0m\n",
      "\u001b[34m[32]#011train-rmse:2393.15638\u001b[0m\n",
      "\u001b[34m[33]#011train-rmse:2380.61849\u001b[0m\n",
      "\u001b[34m[34]#011train-rmse:2372.50432\u001b[0m\n",
      "\u001b[34m[35]#011train-rmse:2369.44563\u001b[0m\n",
      "\u001b[34m[36]#011train-rmse:2363.64141\u001b[0m\n",
      "\u001b[34m[37]#011train-rmse:2359.77876\u001b[0m\n",
      "\u001b[34m[38]#011train-rmse:2355.42898\u001b[0m\n",
      "\u001b[34m[39]#011train-rmse:2348.07723\u001b[0m\n",
      "\u001b[34m[40]#011train-rmse:2319.02019\u001b[0m\n",
      "\u001b[34m[41]#011train-rmse:2314.21132\u001b[0m\n",
      "\u001b[34m[42]#011train-rmse:2289.28809\u001b[0m\n",
      "\u001b[34m[43]#011train-rmse:2277.81943\u001b[0m\n",
      "\u001b[34m[44]#011train-rmse:2252.19113\u001b[0m\n",
      "\u001b[34m[45]#011train-rmse:2240.52938\u001b[0m\n",
      "\u001b[34m[46]#011train-rmse:2227.28603\u001b[0m\n",
      "\u001b[34m[47]#011train-rmse:2210.28816\u001b[0m\n",
      "\u001b[34m[48]#011train-rmse:2202.54094\u001b[0m\n",
      "\u001b[34m[49]#011train-rmse:2186.32896\u001b[0m\n",
      "\n",
      "2023-11-28 04:42:55 Uploading - Uploading generated training model\n",
      "2023-11-28 04:42:55 Completed - Training job completed\n",
      "Training seconds: 92\n",
      "Billable seconds: 92\n"
     ]
    }
   ],
   "source": [
    "xgboost_container = sagemaker.image_uris.retrieve(\"xgboost\", region, \"1.7-1\")\n",
    "\n",
    "model = sagemaker.estimator.Estimator(image_uri=xgboost_container, \n",
    "                                          hyperparameters=hyperparameters,\n",
    "                                          role=sagemaker.get_execution_role(),\n",
    "                                          instance_count=1, \n",
    "                                          instance_type='ml.m5.xlarge', \n",
    "                                          volume_size=5, # 5 GB \n",
    "                                          output_path=output_path)\n",
    "\n",
    "model.fit({'train': s3_input_train})"
   ]
  },
  {
   "cell_type": "code",
   "execution_count": 85,
   "id": "a98aadd1-7a89-4b76-9af7-6f8f2ba0c78d",
   "metadata": {
    "tags": []
   },
   "outputs": [
    {
     "name": "stderr",
     "output_type": "stream",
     "text": [
      "INFO:sagemaker:Creating model with name: sagemaker-xgboost-2023-11-28-04-49-31-935\n",
      "INFO:sagemaker:Creating endpoint-config with name sagemaker-xgboost-2023-11-28-04-49-31-935\n",
      "INFO:sagemaker:Creating endpoint with name sagemaker-xgboost-2023-11-28-04-49-31-935\n"
     ]
    },
    {
     "name": "stdout",
     "output_type": "stream",
     "text": [
      "------!"
     ]
    }
   ],
   "source": [
    "xgb_predictor = model.deploy(initial_instance_count=1,instance_type='ml.m4.xlarge')"
   ]
  },
  {
   "cell_type": "code",
   "execution_count": 110,
   "id": "b78c377d-d7ae-4ed7-8f41-dcbda0845c94",
   "metadata": {
    "tags": []
   },
   "outputs": [],
   "source": [
    "xgb_predictor.content_type = 'text/csv' # set the data type for an inference\n",
    "xgb_predictor.serializer = CSVSerializer() # set the serializer type"
   ]
  },
  {
   "cell_type": "code",
   "execution_count": 111,
   "id": "378411dd-b24c-4fc4-8eb4-a43ee5fd663d",
   "metadata": {
    "tags": []
   },
   "outputs": [],
   "source": [
    "#model prediction On train data"
   ]
  },
  {
   "cell_type": "code",
   "execution_count": 112,
   "id": "27051bdb-cfbf-4512-909d-4d20999c7c1a",
   "metadata": {
    "tags": []
   },
   "outputs": [
    {
     "name": "stdout",
     "output_type": "stream",
     "text": [
      "(26971,)\n"
     ]
    },
    {
     "data": {
      "text/plain": [
       "array([ 2595.22290039,  8118.34960938,  5592.2109375 , ...,\n",
       "        6068.73681641,  5138.44091797, 11211.09960938])"
      ]
     },
     "execution_count": 112,
     "metadata": {},
     "output_type": "execute_result"
    }
   ],
   "source": [
    "train_data_array = train_data.drop(['price_usd'], axis=1).values\n",
    "predictions_train = xgb_predictor.predict(train_data_array).decode('utf-8') # predict!\n",
    "predictions_array_train = np.fromstring(predictions_train, sep='\\n') # and turn the prediction into an array\n",
    "print(predictions_array_train.shape)\n",
    "predictions_array_train"
   ]
  },
  {
   "cell_type": "code",
   "execution_count": 113,
   "id": "2f865cfd-db40-41c0-a6a8-52e6f0bd4c3f",
   "metadata": {
    "tags": []
   },
   "outputs": [
    {
     "name": "stdout",
     "output_type": "stream",
     "text": [
      "R2 score : 0.87\n"
     ]
    }
   ],
   "source": [
    "from sklearn.metrics import r2_score\n",
    "print(\"R2 score : %.2f\" % r2_score(train_data['price_usd'],predictions_array_train))"
   ]
  },
  {
   "cell_type": "code",
   "execution_count": 114,
   "id": "8374fdf9-12c6-4b3e-8667-fa046f6727e5",
   "metadata": {
    "tags": []
   },
   "outputs": [],
   "source": [
    "#Model prediction on tet data"
   ]
  },
  {
   "cell_type": "code",
   "execution_count": 115,
   "id": "109fd384-9fc3-4d1f-bcb1-519a2c74c4d8",
   "metadata": {
    "tags": []
   },
   "outputs": [],
   "source": [
    "test_data_array = test_data.drop(['price_usd'], axis=1).values"
   ]
  },
  {
   "cell_type": "code",
   "execution_count": 116,
   "id": "0cd97e52-7786-4d18-86f8-7c4dfcc39da3",
   "metadata": {
    "tags": []
   },
   "outputs": [
    {
     "name": "stdout",
     "output_type": "stream",
     "text": [
      "(11560,)\n"
     ]
    },
    {
     "data": {
      "text/plain": [
       "array([ 1226.18310547,  5977.69091797,  2212.28173828, ...,\n",
       "       14047.00292969,  1523.02514648, 15446.75097656])"
      ]
     },
     "execution_count": 116,
     "metadata": {},
     "output_type": "execute_result"
    }
   ],
   "source": [
    "predictions = xgb_predictor.predict(test_data_array).decode('utf-8') # predict!\n",
    "predictions_array = np.fromstring(predictions, sep='\\n') # and turn the prediction into an array\n",
    "print(predictions_array.shape)\n",
    "predictions_array"
   ]
  },
  {
   "cell_type": "code",
   "execution_count": 117,
   "id": "47cae425-53c3-4924-b185-0adfe09ec5ea",
   "metadata": {
    "tags": []
   },
   "outputs": [
    {
     "name": "stdout",
     "output_type": "stream",
     "text": [
      "R2 score : 0.86\n"
     ]
    }
   ],
   "source": [
    "from sklearn.metrics import r2_score\n",
    "print(\"R2 score : %.2f\" % r2_score(test_data['price_usd'],predictions_array))"
   ]
  },
  {
   "cell_type": "code",
   "execution_count": null,
   "id": "961b84a9-79df-4d0f-837e-8e756b3f8cad",
   "metadata": {},
   "outputs": [],
   "source": []
  }
 ],
 "metadata": {
  "availableInstances": [
   {
    "_defaultOrder": 0,
    "_isFastLaunch": true,
    "category": "General purpose",
    "gpuNum": 0,
    "hideHardwareSpecs": false,
    "memoryGiB": 4,
    "name": "ml.t3.medium",
    "vcpuNum": 2
   },
   {
    "_defaultOrder": 1,
    "_isFastLaunch": false,
    "category": "General purpose",
    "gpuNum": 0,
    "hideHardwareSpecs": false,
    "memoryGiB": 8,
    "name": "ml.t3.large",
    "vcpuNum": 2
   },
   {
    "_defaultOrder": 2,
    "_isFastLaunch": false,
    "category": "General purpose",
    "gpuNum": 0,
    "hideHardwareSpecs": false,
    "memoryGiB": 16,
    "name": "ml.t3.xlarge",
    "vcpuNum": 4
   },
   {
    "_defaultOrder": 3,
    "_isFastLaunch": false,
    "category": "General purpose",
    "gpuNum": 0,
    "hideHardwareSpecs": false,
    "memoryGiB": 32,
    "name": "ml.t3.2xlarge",
    "vcpuNum": 8
   },
   {
    "_defaultOrder": 4,
    "_isFastLaunch": true,
    "category": "General purpose",
    "gpuNum": 0,
    "hideHardwareSpecs": false,
    "memoryGiB": 8,
    "name": "ml.m5.large",
    "vcpuNum": 2
   },
   {
    "_defaultOrder": 5,
    "_isFastLaunch": false,
    "category": "General purpose",
    "gpuNum": 0,
    "hideHardwareSpecs": false,
    "memoryGiB": 16,
    "name": "ml.m5.xlarge",
    "vcpuNum": 4
   },
   {
    "_defaultOrder": 6,
    "_isFastLaunch": false,
    "category": "General purpose",
    "gpuNum": 0,
    "hideHardwareSpecs": false,
    "memoryGiB": 32,
    "name": "ml.m5.2xlarge",
    "vcpuNum": 8
   },
   {
    "_defaultOrder": 7,
    "_isFastLaunch": false,
    "category": "General purpose",
    "gpuNum": 0,
    "hideHardwareSpecs": false,
    "memoryGiB": 64,
    "name": "ml.m5.4xlarge",
    "vcpuNum": 16
   },
   {
    "_defaultOrder": 8,
    "_isFastLaunch": false,
    "category": "General purpose",
    "gpuNum": 0,
    "hideHardwareSpecs": false,
    "memoryGiB": 128,
    "name": "ml.m5.8xlarge",
    "vcpuNum": 32
   },
   {
    "_defaultOrder": 9,
    "_isFastLaunch": false,
    "category": "General purpose",
    "gpuNum": 0,
    "hideHardwareSpecs": false,
    "memoryGiB": 192,
    "name": "ml.m5.12xlarge",
    "vcpuNum": 48
   },
   {
    "_defaultOrder": 10,
    "_isFastLaunch": false,
    "category": "General purpose",
    "gpuNum": 0,
    "hideHardwareSpecs": false,
    "memoryGiB": 256,
    "name": "ml.m5.16xlarge",
    "vcpuNum": 64
   },
   {
    "_defaultOrder": 11,
    "_isFastLaunch": false,
    "category": "General purpose",
    "gpuNum": 0,
    "hideHardwareSpecs": false,
    "memoryGiB": 384,
    "name": "ml.m5.24xlarge",
    "vcpuNum": 96
   },
   {
    "_defaultOrder": 12,
    "_isFastLaunch": false,
    "category": "General purpose",
    "gpuNum": 0,
    "hideHardwareSpecs": false,
    "memoryGiB": 8,
    "name": "ml.m5d.large",
    "vcpuNum": 2
   },
   {
    "_defaultOrder": 13,
    "_isFastLaunch": false,
    "category": "General purpose",
    "gpuNum": 0,
    "hideHardwareSpecs": false,
    "memoryGiB": 16,
    "name": "ml.m5d.xlarge",
    "vcpuNum": 4
   },
   {
    "_defaultOrder": 14,
    "_isFastLaunch": false,
    "category": "General purpose",
    "gpuNum": 0,
    "hideHardwareSpecs": false,
    "memoryGiB": 32,
    "name": "ml.m5d.2xlarge",
    "vcpuNum": 8
   },
   {
    "_defaultOrder": 15,
    "_isFastLaunch": false,
    "category": "General purpose",
    "gpuNum": 0,
    "hideHardwareSpecs": false,
    "memoryGiB": 64,
    "name": "ml.m5d.4xlarge",
    "vcpuNum": 16
   },
   {
    "_defaultOrder": 16,
    "_isFastLaunch": false,
    "category": "General purpose",
    "gpuNum": 0,
    "hideHardwareSpecs": false,
    "memoryGiB": 128,
    "name": "ml.m5d.8xlarge",
    "vcpuNum": 32
   },
   {
    "_defaultOrder": 17,
    "_isFastLaunch": false,
    "category": "General purpose",
    "gpuNum": 0,
    "hideHardwareSpecs": false,
    "memoryGiB": 192,
    "name": "ml.m5d.12xlarge",
    "vcpuNum": 48
   },
   {
    "_defaultOrder": 18,
    "_isFastLaunch": false,
    "category": "General purpose",
    "gpuNum": 0,
    "hideHardwareSpecs": false,
    "memoryGiB": 256,
    "name": "ml.m5d.16xlarge",
    "vcpuNum": 64
   },
   {
    "_defaultOrder": 19,
    "_isFastLaunch": false,
    "category": "General purpose",
    "gpuNum": 0,
    "hideHardwareSpecs": false,
    "memoryGiB": 384,
    "name": "ml.m5d.24xlarge",
    "vcpuNum": 96
   },
   {
    "_defaultOrder": 20,
    "_isFastLaunch": false,
    "category": "General purpose",
    "gpuNum": 0,
    "hideHardwareSpecs": true,
    "memoryGiB": 0,
    "name": "ml.geospatial.interactive",
    "supportedImageNames": [
     "sagemaker-geospatial-v1-0"
    ],
    "vcpuNum": 0
   },
   {
    "_defaultOrder": 21,
    "_isFastLaunch": true,
    "category": "Compute optimized",
    "gpuNum": 0,
    "hideHardwareSpecs": false,
    "memoryGiB": 4,
    "name": "ml.c5.large",
    "vcpuNum": 2
   },
   {
    "_defaultOrder": 22,
    "_isFastLaunch": false,
    "category": "Compute optimized",
    "gpuNum": 0,
    "hideHardwareSpecs": false,
    "memoryGiB": 8,
    "name": "ml.c5.xlarge",
    "vcpuNum": 4
   },
   {
    "_defaultOrder": 23,
    "_isFastLaunch": false,
    "category": "Compute optimized",
    "gpuNum": 0,
    "hideHardwareSpecs": false,
    "memoryGiB": 16,
    "name": "ml.c5.2xlarge",
    "vcpuNum": 8
   },
   {
    "_defaultOrder": 24,
    "_isFastLaunch": false,
    "category": "Compute optimized",
    "gpuNum": 0,
    "hideHardwareSpecs": false,
    "memoryGiB": 32,
    "name": "ml.c5.4xlarge",
    "vcpuNum": 16
   },
   {
    "_defaultOrder": 25,
    "_isFastLaunch": false,
    "category": "Compute optimized",
    "gpuNum": 0,
    "hideHardwareSpecs": false,
    "memoryGiB": 72,
    "name": "ml.c5.9xlarge",
    "vcpuNum": 36
   },
   {
    "_defaultOrder": 26,
    "_isFastLaunch": false,
    "category": "Compute optimized",
    "gpuNum": 0,
    "hideHardwareSpecs": false,
    "memoryGiB": 96,
    "name": "ml.c5.12xlarge",
    "vcpuNum": 48
   },
   {
    "_defaultOrder": 27,
    "_isFastLaunch": false,
    "category": "Compute optimized",
    "gpuNum": 0,
    "hideHardwareSpecs": false,
    "memoryGiB": 144,
    "name": "ml.c5.18xlarge",
    "vcpuNum": 72
   },
   {
    "_defaultOrder": 28,
    "_isFastLaunch": false,
    "category": "Compute optimized",
    "gpuNum": 0,
    "hideHardwareSpecs": false,
    "memoryGiB": 192,
    "name": "ml.c5.24xlarge",
    "vcpuNum": 96
   },
   {
    "_defaultOrder": 29,
    "_isFastLaunch": true,
    "category": "Accelerated computing",
    "gpuNum": 1,
    "hideHardwareSpecs": false,
    "memoryGiB": 16,
    "name": "ml.g4dn.xlarge",
    "vcpuNum": 4
   },
   {
    "_defaultOrder": 30,
    "_isFastLaunch": false,
    "category": "Accelerated computing",
    "gpuNum": 1,
    "hideHardwareSpecs": false,
    "memoryGiB": 32,
    "name": "ml.g4dn.2xlarge",
    "vcpuNum": 8
   },
   {
    "_defaultOrder": 31,
    "_isFastLaunch": false,
    "category": "Accelerated computing",
    "gpuNum": 1,
    "hideHardwareSpecs": false,
    "memoryGiB": 64,
    "name": "ml.g4dn.4xlarge",
    "vcpuNum": 16
   },
   {
    "_defaultOrder": 32,
    "_isFastLaunch": false,
    "category": "Accelerated computing",
    "gpuNum": 1,
    "hideHardwareSpecs": false,
    "memoryGiB": 128,
    "name": "ml.g4dn.8xlarge",
    "vcpuNum": 32
   },
   {
    "_defaultOrder": 33,
    "_isFastLaunch": false,
    "category": "Accelerated computing",
    "gpuNum": 4,
    "hideHardwareSpecs": false,
    "memoryGiB": 192,
    "name": "ml.g4dn.12xlarge",
    "vcpuNum": 48
   },
   {
    "_defaultOrder": 34,
    "_isFastLaunch": false,
    "category": "Accelerated computing",
    "gpuNum": 1,
    "hideHardwareSpecs": false,
    "memoryGiB": 256,
    "name": "ml.g4dn.16xlarge",
    "vcpuNum": 64
   },
   {
    "_defaultOrder": 35,
    "_isFastLaunch": false,
    "category": "Accelerated computing",
    "gpuNum": 1,
    "hideHardwareSpecs": false,
    "memoryGiB": 61,
    "name": "ml.p3.2xlarge",
    "vcpuNum": 8
   },
   {
    "_defaultOrder": 36,
    "_isFastLaunch": false,
    "category": "Accelerated computing",
    "gpuNum": 4,
    "hideHardwareSpecs": false,
    "memoryGiB": 244,
    "name": "ml.p3.8xlarge",
    "vcpuNum": 32
   },
   {
    "_defaultOrder": 37,
    "_isFastLaunch": false,
    "category": "Accelerated computing",
    "gpuNum": 8,
    "hideHardwareSpecs": false,
    "memoryGiB": 488,
    "name": "ml.p3.16xlarge",
    "vcpuNum": 64
   },
   {
    "_defaultOrder": 38,
    "_isFastLaunch": false,
    "category": "Accelerated computing",
    "gpuNum": 8,
    "hideHardwareSpecs": false,
    "memoryGiB": 768,
    "name": "ml.p3dn.24xlarge",
    "vcpuNum": 96
   },
   {
    "_defaultOrder": 39,
    "_isFastLaunch": false,
    "category": "Memory Optimized",
    "gpuNum": 0,
    "hideHardwareSpecs": false,
    "memoryGiB": 16,
    "name": "ml.r5.large",
    "vcpuNum": 2
   },
   {
    "_defaultOrder": 40,
    "_isFastLaunch": false,
    "category": "Memory Optimized",
    "gpuNum": 0,
    "hideHardwareSpecs": false,
    "memoryGiB": 32,
    "name": "ml.r5.xlarge",
    "vcpuNum": 4
   },
   {
    "_defaultOrder": 41,
    "_isFastLaunch": false,
    "category": "Memory Optimized",
    "gpuNum": 0,
    "hideHardwareSpecs": false,
    "memoryGiB": 64,
    "name": "ml.r5.2xlarge",
    "vcpuNum": 8
   },
   {
    "_defaultOrder": 42,
    "_isFastLaunch": false,
    "category": "Memory Optimized",
    "gpuNum": 0,
    "hideHardwareSpecs": false,
    "memoryGiB": 128,
    "name": "ml.r5.4xlarge",
    "vcpuNum": 16
   },
   {
    "_defaultOrder": 43,
    "_isFastLaunch": false,
    "category": "Memory Optimized",
    "gpuNum": 0,
    "hideHardwareSpecs": false,
    "memoryGiB": 256,
    "name": "ml.r5.8xlarge",
    "vcpuNum": 32
   },
   {
    "_defaultOrder": 44,
    "_isFastLaunch": false,
    "category": "Memory Optimized",
    "gpuNum": 0,
    "hideHardwareSpecs": false,
    "memoryGiB": 384,
    "name": "ml.r5.12xlarge",
    "vcpuNum": 48
   },
   {
    "_defaultOrder": 45,
    "_isFastLaunch": false,
    "category": "Memory Optimized",
    "gpuNum": 0,
    "hideHardwareSpecs": false,
    "memoryGiB": 512,
    "name": "ml.r5.16xlarge",
    "vcpuNum": 64
   },
   {
    "_defaultOrder": 46,
    "_isFastLaunch": false,
    "category": "Memory Optimized",
    "gpuNum": 0,
    "hideHardwareSpecs": false,
    "memoryGiB": 768,
    "name": "ml.r5.24xlarge",
    "vcpuNum": 96
   },
   {
    "_defaultOrder": 47,
    "_isFastLaunch": false,
    "category": "Accelerated computing",
    "gpuNum": 1,
    "hideHardwareSpecs": false,
    "memoryGiB": 16,
    "name": "ml.g5.xlarge",
    "vcpuNum": 4
   },
   {
    "_defaultOrder": 48,
    "_isFastLaunch": false,
    "category": "Accelerated computing",
    "gpuNum": 1,
    "hideHardwareSpecs": false,
    "memoryGiB": 32,
    "name": "ml.g5.2xlarge",
    "vcpuNum": 8
   },
   {
    "_defaultOrder": 49,
    "_isFastLaunch": false,
    "category": "Accelerated computing",
    "gpuNum": 1,
    "hideHardwareSpecs": false,
    "memoryGiB": 64,
    "name": "ml.g5.4xlarge",
    "vcpuNum": 16
   },
   {
    "_defaultOrder": 50,
    "_isFastLaunch": false,
    "category": "Accelerated computing",
    "gpuNum": 1,
    "hideHardwareSpecs": false,
    "memoryGiB": 128,
    "name": "ml.g5.8xlarge",
    "vcpuNum": 32
   },
   {
    "_defaultOrder": 51,
    "_isFastLaunch": false,
    "category": "Accelerated computing",
    "gpuNum": 1,
    "hideHardwareSpecs": false,
    "memoryGiB": 256,
    "name": "ml.g5.16xlarge",
    "vcpuNum": 64
   },
   {
    "_defaultOrder": 52,
    "_isFastLaunch": false,
    "category": "Accelerated computing",
    "gpuNum": 4,
    "hideHardwareSpecs": false,
    "memoryGiB": 192,
    "name": "ml.g5.12xlarge",
    "vcpuNum": 48
   },
   {
    "_defaultOrder": 53,
    "_isFastLaunch": false,
    "category": "Accelerated computing",
    "gpuNum": 4,
    "hideHardwareSpecs": false,
    "memoryGiB": 384,
    "name": "ml.g5.24xlarge",
    "vcpuNum": 96
   },
   {
    "_defaultOrder": 54,
    "_isFastLaunch": false,
    "category": "Accelerated computing",
    "gpuNum": 8,
    "hideHardwareSpecs": false,
    "memoryGiB": 768,
    "name": "ml.g5.48xlarge",
    "vcpuNum": 192
   },
   {
    "_defaultOrder": 55,
    "_isFastLaunch": false,
    "category": "Accelerated computing",
    "gpuNum": 8,
    "hideHardwareSpecs": false,
    "memoryGiB": 1152,
    "name": "ml.p4d.24xlarge",
    "vcpuNum": 96
   },
   {
    "_defaultOrder": 56,
    "_isFastLaunch": false,
    "category": "Accelerated computing",
    "gpuNum": 8,
    "hideHardwareSpecs": false,
    "memoryGiB": 1152,
    "name": "ml.p4de.24xlarge",
    "vcpuNum": 96
   },
   {
    "_defaultOrder": 57,
    "_isFastLaunch": false,
    "category": "Accelerated computing",
    "gpuNum": 0,
    "hideHardwareSpecs": false,
    "memoryGiB": 32,
    "name": "ml.trn1.2xlarge",
    "vcpuNum": 8
   },
   {
    "_defaultOrder": 58,
    "_isFastLaunch": false,
    "category": "Accelerated computing",
    "gpuNum": 0,
    "hideHardwareSpecs": false,
    "memoryGiB": 512,
    "name": "ml.trn1.32xlarge",
    "vcpuNum": 128
   },
   {
    "_defaultOrder": 59,
    "_isFastLaunch": false,
    "category": "Accelerated computing",
    "gpuNum": 0,
    "hideHardwareSpecs": false,
    "memoryGiB": 512,
    "name": "ml.trn1n.32xlarge",
    "vcpuNum": 128
   }
  ],
  "instance_type": "ml.t3.medium",
  "kernelspec": {
   "display_name": "Python 3 (Data Science 3.0)",
   "language": "python",
   "name": "python3__SAGEMAKER_INTERNAL__arn:aws:sagemaker:us-east-1:081325390199:image/sagemaker-data-science-310-v1"
  },
  "language_info": {
   "codemirror_mode": {
    "name": "ipython",
    "version": 3
   },
   "file_extension": ".py",
   "mimetype": "text/x-python",
   "name": "python",
   "nbconvert_exporter": "python",
   "pygments_lexer": "ipython3",
   "version": "3.10.6"
  }
 },
 "nbformat": 4,
 "nbformat_minor": 5
}
